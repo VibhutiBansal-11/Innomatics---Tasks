{
 "cells": [
  {
   "cell_type": "code",
   "execution_count": 1,
   "metadata": {},
   "outputs": [
    {
     "name": "stdout",
     "output_type": "stream",
     "text": [
      "qwQ\n",
      "QWq\n"
     ]
    }
   ],
   "source": [
    "#Q1 Swap Case\n",
    "def swap_case(s):\n",
    "    return s.swapcase()\n",
    "\n",
    "if __name__ == '__main__':\n",
    "    s = input()\n",
    "    result = swap_case(s)\n",
    "    print(result)"
   ]
  },
  {
   "cell_type": "code",
   "execution_count": 3,
   "metadata": {},
   "outputs": [
    {
     "name": "stdout",
     "output_type": "stream",
     "text": [
      "this is a string\n",
      "this-is-a-string\n"
     ]
    }
   ],
   "source": [
    "#Q2 String Split n Join\n",
    "def split_and_join(line):\n",
    "    return('-'.join(line.split(' ')))\n",
    "\n",
    "if __name__ == '__main__':\n",
    "    line = input()\n",
    "    result = split_and_join(line)\n",
    "    print(result)"
   ]
  },
  {
   "cell_type": "code",
   "execution_count": null,
   "metadata": {},
   "outputs": [],
   "source": [
    "#Q3 Whats your Name\n",
    "def print_full_name(first, last):\n",
    "    print('Hello '+first+' '+last+'! '+'You just delved into python.')\n",
    "if __name__ == '__main__':\n",
    "    first_name = input()\n",
    "    last_name = input()\n",
    "    print_full_name(first_name, last_name)"
   ]
  },
  {
   "cell_type": "code",
   "execution_count": null,
   "metadata": {},
   "outputs": [],
   "source": [
    "#Q4 Mutations\n",
    "def mutate_string(string, position, character):\n",
    "    return(string[:position]+character+string[position+1:])\n",
    "\n",
    "if __name__ == '__main__':\n",
    "    s = input()\n",
    "    i, c = input().split()\n",
    "    s_new = mutate_string(s, int(i), c)\n",
    "    print(s_new)"
   ]
  },
  {
   "cell_type": "code",
   "execution_count": 6,
   "metadata": {},
   "outputs": [
    {
     "name": "stdout",
     "output_type": "stream",
     "text": [
      "ABCDCDC\n",
      "CDC\n",
      "2\n"
     ]
    }
   ],
   "source": [
    "#Q5 Find a string\n",
    "def count_substring(string, sub_string):\n",
    "    count = 0\n",
    "    for i in range(len(string)):\n",
    "        if string[i:i+len(sub_string)]==sub_string:\n",
    "            count += 1\n",
    "    return count\n",
    "\n",
    "if __name__ == '__main__':\n",
    "    string = input().strip()\n",
    "    sub_string = input().strip()\n",
    "    \n",
    "    count = count_substring(string, sub_string)\n",
    "    print(count)"
   ]
  },
  {
   "cell_type": "code",
   "execution_count": null,
   "metadata": {},
   "outputs": [],
   "source": [
    "#Q6 String Validators\n",
    "if __name__ == '__main__':\n",
    "    s = input()\n",
    "    print(any(i.isalnum() for i in s) )\n",
    "    print(any(i.isalpha() for i in s) )\n",
    "    print(any(i.isdigit() for i in s) )\n",
    "    print(any(i.islower() for i in s) )\n",
    "    print(any(i.isupper() for i in s) )"
   ]
  },
  {
   "cell_type": "code",
   "execution_count": 7,
   "metadata": {},
   "outputs": [
    {
     "name": "stdout",
     "output_type": "stream",
     "text": [
      "4\n",
      "   H   \n",
      "  HHH  \n",
      " HHHHH \n",
      "HHHHHHH\n",
      "  HHHH            HHHH          \n",
      "  HHHH            HHHH          \n",
      "  HHHH            HHHH          \n",
      "  HHHH            HHHH          \n",
      "  HHHH            HHHH          \n",
      "  HHHHHHHHHHHHHHHHHHHH  \n",
      "  HHHHHHHHHHHHHHHHHHHH  \n",
      "  HHHH            HHHH          \n",
      "  HHHH            HHHH          \n",
      "  HHHH            HHHH          \n",
      "  HHHH            HHHH          \n",
      "  HHHH            HHHH          \n",
      "                HHHHHHH \n",
      "                 HHHHH  \n",
      "                  HHH   \n",
      "                   H    \n"
     ]
    }
   ],
   "source": [
    "#Q7 Text Alignment\n",
    "#Replace all ______ with rjust, ljust or center. \n",
    "\n",
    "thickness = int(input()) #This must be an odd number\n",
    "c = 'H'\n",
    "#Top Cone\n",
    "for i in range(thickness):\n",
    "    print((c*i).rjust(thickness-1)+c+(c*i).ljust(thickness-1))\n",
    "\n",
    "#Top Pillars\n",
    "for i in range(thickness+1):\n",
    "    print((c*thickness).center(thickness*2)+(c*thickness).center(thickness*6))\n",
    "\n",
    "#Middle Belt\n",
    "for i in range((thickness+1)//2):\n",
    "    print((c*thickness*5).center(thickness*6))    \n",
    "\n",
    "#Bottom Pillars\n",
    "for i in range(thickness+1):\n",
    "    print((c*thickness).center(thickness*2)+(c*thickness).center(thickness*6))    \n",
    "\n",
    "#Bottom Cone\n",
    "for i in range(thickness):\n",
    "    print(((c*(thickness-i-1)).rjust(thickness)+c+(c*(thickness-i-1)).ljust(thickness)).rjust(thickness*6))"
   ]
  },
  {
   "cell_type": "code",
   "execution_count": null,
   "metadata": {},
   "outputs": [],
   "source": [
    "#Q8 Text Wrap\n",
    "# import textwrap\n",
    "\n",
    "def wrap(string, max_width):\n",
    "    out = []\n",
    "    for i in range(0, len(string), max_width):\n",
    "        if i+max_width >= len(string):\n",
    "            out.append(string[i:])\n",
    "        else:\n",
    "            out.append(string[i:i+max_width])\n",
    "    return('\\n'.join(out))\n",
    "\n",
    "if __name__ == '__main__':\n",
    "    string, max_width = input(), int(input())\n",
    "    result = wrap(string, max_width)\n",
    "    print(result)"
   ]
  },
  {
   "cell_type": "code",
   "execution_count": null,
   "metadata": {},
   "outputs": [],
   "source": [
    "#Q9 Designer Door Mat\n",
    "# Enter your code here. Read input from STDIN. Print output to STDOUT\n",
    "n, m= map(int,input().split())\n",
    "for i in range(1,n,2): \n",
    "    print((i * \".|.\").center(m, \"-\"))\n",
    "print(\"WELCOME\".center(m,\"-\"))\n",
    "for i in range(n-2,-1,-2): \n",
    "    print((i * \".|.\").center(m, \"-\"))"
   ]
  },
  {
   "cell_type": "code",
   "execution_count": null,
   "metadata": {},
   "outputs": [],
   "source": [
    "#Q10 String Formatting\n",
    "def print_formatted(n):\n",
    "    w = len(\"{0:b}\".format(n))\n",
    "    for i in range(1,n+1):\n",
    "        print(\"{0:{width}d} {0:{width}o} {0:{width}X} {0:{width}b}\".format(i, width=w))\n",
    "\n",
    "if __name__ == '__main__':\n",
    "    n = int(input())\n",
    "    print_formatted(n)"
   ]
  },
  {
   "cell_type": "code",
   "execution_count": null,
   "metadata": {},
   "outputs": [],
   "source": [
    "#Q11 Alphabet Rangoli\n",
    "def print_rangoli(n):\n",
    "    a = []\n",
    "    for i in range(1,n+1):\n",
    "        s = '-'*(2*(n-i))\n",
    "        l = []\n",
    "        for j in range(0,i):\n",
    "            l.append(chr(ord('a')+n-1-j))\n",
    "        s = s + '-'.join(l)\n",
    "        s = s + s[:-1][::-1]\n",
    "        a.append(s)\n",
    "    a = a + a[:-1][::-1]\n",
    "    for i in a:\n",
    "        print(i)\n",
    "\n",
    "if __name__ == '__main__':"
   ]
  },
  {
   "cell_type": "code",
   "execution_count": null,
   "metadata": {},
   "outputs": [],
   "source": [
    "#Q12 Capitalize\n",
    "\n",
    "# Complete the solve function below.\n",
    "def solve(s):\n",
    "    n = list(s.split(\" \"))\n",
    "    arr = []\n",
    "    for i in n:\n",
    "        arr.append(i.capitalize())\n",
    "    return(' '.join(arr))\n",
    "if __name__ == '__main__':\n",
    "    fptr = open(os.environ['OUTPUT_PATH'], 'w')\n",
    "\n",
    "    s = input()\n",
    "\n",
    "    result = solve(s)\n",
    "\n",
    "    fptr.write(result + '\\n')\n",
    "\n",
    "    fptr.close()\n"
   ]
  },
  {
   "cell_type": "code",
   "execution_count": null,
   "metadata": {},
   "outputs": [],
   "source": [
    "#Q13 MInion Game\n",
    "def minion_game(n):\n",
    "    \n",
    "    vowels = [\"A\", \"E\", \"I\", \"O\", \"U\"]\n",
    "    scores = [0,0]\n",
    "    l = len(n)\n",
    "    for i in range(0, l):\n",
    "        word_number = l - i\n",
    "        if n[i] in vowels:\n",
    "            scores[1] += word_number\n",
    "        else:\n",
    "            scores[0] += word_number\n",
    "    if scores[0] > scores[1]:\n",
    "        print(\"Stuart\", scores[0])\n",
    "    elif scores[0] < scores[1]:    \n",
    "        print(\"Kevin\", scores[1])\n",
    "    else:\n",
    "        print(\"Draw\")\n",
    "\n",
    "if __name__ == '__main__':\n",
    "    s = input()\n",
    "    minion_game(s)"
   ]
  },
  {
   "cell_type": "code",
   "execution_count": null,
   "metadata": {},
   "outputs": [],
   "source": [
    "#Q14 Merge Tools\n",
    "def merge_the_tools(string, k):\n",
    "    val = []\n",
    "    for i in range(0, len(string), k):\n",
    "        val.append(string[i:i+k])\n",
    "    for i in val:\n",
    "        arr = []\n",
    "        for j in i:\n",
    "            if j not in arr:\n",
    "                arr.append(j)\n",
    "        print(''.join(arr))\n",
    "if __name__ == '__main__':\n",
    "    string, k = input(), int(input())\n",
    "    merge_the_tools(string, k)"
   ]
  }
 ],
 "metadata": {
  "kernelspec": {
   "display_name": "Python 3",
   "language": "python",
   "name": "python3"
  },
  "language_info": {
   "codemirror_mode": {
    "name": "ipython",
    "version": 3
   },
   "file_extension": ".py",
   "mimetype": "text/x-python",
   "name": "python",
   "nbconvert_exporter": "python",
   "pygments_lexer": "ipython3",
   "version": "3.8.5"
  }
 },
 "nbformat": 4,
 "nbformat_minor": 4
}
