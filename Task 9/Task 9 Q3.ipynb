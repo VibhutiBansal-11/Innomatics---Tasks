{
 "cells": [
  {
   "cell_type": "markdown",
   "metadata": {},
   "source": [
    "### TATA has developed a better fuel management system for the SUV segment. They claim that with this system, on average the SUV's mileage is at least 15 km/litre?"
   ]
  },
  {
   "cell_type": "code",
   "execution_count": 2,
   "metadata": {},
   "outputs": [],
   "source": [
    "import numpy as np\n",
    "import matplotlib.pyplot as plt\n",
    "from scipy.stats import t\n",
    "from scipy.stats import norm"
   ]
  },
  {
   "cell_type": "markdown",
   "metadata": {},
   "source": [
    "### Step 1 Decide Null and Alternate Hypothesis : \n",
    "\n",
    "\n",
    "$$ Null \\ Hypothesis(Status \\ Quo) : H_0 \\ \\implies \\ \\mu \\leq 15 \\ km/litre $$\n",
    "$$ Alternate \\ Hypothesis(Bold \\ Claim) : H_1 \\ \\implies \\ \\mu  >  15 \\ km/litre $$\n"
   ]
  },
  {
   "cell_type": "markdown",
   "metadata": {},
   "source": [
    "\n",
    "### Step 2 Collect samples to compute test statistics :\n",
    "$$ Samples(x) = [13, 12.9, 15.6, 13.6, 18.8, 12.2, 16.7, 16, 12.9, 18.4] $$\n",
    "$$ n = 10 $$\n"
   ]
  },
  {
   "cell_type": "code",
   "execution_count": 21,
   "metadata": {},
   "outputs": [],
   "source": [
    "l = [13, 12.9, 15.6, 13.6, 18.8, 12.2, 16.7, 16, 12.9, 18.4]"
   ]
  },
  {
   "cell_type": "markdown",
   "metadata": {},
   "source": [
    "### Step 3 (Compute test statistics on the sample collected):\n",
    "$$ \\mu_\\bar{x} = \\frac{\\sum_{i=0}^{n-1} x_i}{n} = 15.01 $$\n",
    "$$ x \\implies Samples $$\n",
    "\n",
    "$$ S^2 = \\frac{\\sum_{i=0}^{n-1} (x_i - \\mu_x)^2}{n} = 5.286 $$\n",
    "\n",
    "\n",
    "$$ t \\ score = \\frac{\\mu_x - \\mu_\\bar{x}}{S/\\sqrt{n}} = -0.013 $$\n"
   ]
  },
  {
   "cell_type": "code",
   "execution_count": 22,
   "metadata": {},
   "outputs": [
    {
     "name": "stdout",
     "output_type": "stream",
     "text": [
      "15.010000000000002\n"
     ]
    }
   ],
   "source": [
    "sample_mean = sum(l) / len(l)\n",
    "print(sample_mean)"
   ]
  },
  {
   "cell_type": "code",
   "execution_count": 23,
   "metadata": {},
   "outputs": [
    {
     "name": "stdout",
     "output_type": "stream",
     "text": [
      "sample variance = 5.2869\n",
      "sample_std = 2.299325988197411\n",
      "t_score = -0.013753063621257052\n"
     ]
    }
   ],
   "source": [
    "s = 0\n",
    "for i in l:\n",
    "    s+=pow((i - sample_mean), 2)\n",
    "sample_variance = s / len(l)\n",
    "print('sample variance = '+ str(sample_variance))\n",
    "sample_std = sample_variance ** 0.5\n",
    "print('sample_std = ' +str(sample_std))\n",
    "population_mean = 15\n",
    "sample_size = len(l)\n",
    "def t_score(pop_mean, sample_mean, sample_size, sample_std):\n",
    "    \n",
    "      numerator = pop_mean - sample_mean\n",
    "      denominator = sample_std / (sample_size ** 0.5)\n",
    "      return numerator / denominator\n",
    "\n",
    "t_calculated = t_score(population_mean, sample_mean, sample_size, sample_std)\n",
    "print('t_score = '+str(t_calculated)) "
   ]
  },
  {
   "cell_type": "markdown",
   "metadata": {},
   "source": [
    "### Step 4(Decide significance level) $\\implies$\n",
    "$$ Confidence = 95\\% $$\n",
    "$$ 1 - \\alpha = 0.95 $$\n",
    "$$ \\alpha = 0.05 $$"
   ]
  },
  {
   "cell_type": "code",
   "execution_count": 24,
   "metadata": {},
   "outputs": [
    {
     "name": "stdout",
     "output_type": "stream",
     "text": [
      "0.05\n"
     ]
    }
   ],
   "source": [
    "alpha = 1 - 0.95\n",
    "print(round(alpha, 2))"
   ]
  },
  {
   "cell_type": "code",
   "execution_count": 25,
   "metadata": {},
   "outputs": [
    {
     "name": "stdout",
     "output_type": "stream",
     "text": [
      "2.7764451051977987\n"
     ]
    }
   ],
   "source": [
    "#Two tail test\n",
    "t_critical = t.ppf(1-alpha/2, df=4)\n",
    "print(t_critical)"
   ]
  },
  {
   "cell_type": "markdown",
   "metadata": {},
   "source": [
    "### Step 5.1 (Apply decision Rule using t score)  \n",
    " 1. In case of 2 tailed : $$ |t| > t_{{n - 1}, {\\frac{\\alpha}{2}} }   -----> Reject \\ H_0, \\ Accept \\ H_1 $$\n",
    " 2. In case of right tailed: $$ t > t_{{n-1}, {\\alpha}}   -----> Reject \\ H_0, \\ Accept \\ H_1 $$ \n",
    " 3. In case of left tailed  : $$ t < t_{{n-1}, \\alpha}   -----> Reject \\ H_0, \\ Accept \\ H_1 $$\n",
    "\n",
    "Here we will use two tailed test : $$ |t| < t_{4, 0.025} \\\\ 0.013 < 2.776 \\\\ We \\ Reject \\ H_1 $$\n"
   ]
  },
  {
   "cell_type": "code",
   "execution_count": 26,
   "metadata": {},
   "outputs": [
    {
     "name": "stdout",
     "output_type": "stream",
     "text": [
      "Fail to reject Null Hypothesis\n"
     ]
    }
   ],
   "source": [
    "if abs(t_calculated) < t_critical:\n",
    "  print(\"Fail to reject Null Hypothesis\")\n",
    "else:\n",
    "  print(\"Reject Null Hypothesis\") "
   ]
  },
  {
   "cell_type": "markdown",
   "metadata": {},
   "source": [
    "\n",
    "### Step 5.2 Apply decision Rule using p score:\n",
    "1. For 2 tailed test $\\implies$ $$ p \\ value = 2 * (1 - cdf(test \\ statistic)) $$\n",
    "2. For one tailed test $\\implies$ $$ p \\ value = (1 - cdf(test \\ statistic)) $$\n",
    "\n",
    "$$ if (p \\ values < \\alpha) : Reject \\ H_0, \\ Accept \\ H_1 $$\n",
    "\n",
    "\n",
    "Here we use two tailed test $\\implies$ $$ p \\ value = 2 * (1 - cdf(0.541)) \\\\ p \\ value = 0.494 \\\\ p \\ value > \\alpha \\\\ We \\ Reject \\ H_1 $$"
   ]
  },
  {
   "cell_type": "code",
   "execution_count": 27,
   "metadata": {},
   "outputs": [
    {
     "name": "stdout",
     "output_type": "stream",
     "text": [
      "0.4945134943961005\n"
     ]
    }
   ],
   "source": [
    "p_val = (1-norm.cdf(abs(t_calculated)))\n",
    "print(p_val)"
   ]
  },
  {
   "cell_type": "code",
   "execution_count": 28,
   "metadata": {},
   "outputs": [
    {
     "name": "stdout",
     "output_type": "stream",
     "text": [
      "Fail to reject Null Hypothesis\n"
     ]
    }
   ],
   "source": [
    "if (p_val > alpha):\n",
    "  print(\"Fail to reject Null Hypothesis\")\n",
    "else:\n",
    "  print(\"Reject Null Hypothesis\")"
   ]
  },
  {
   "cell_type": "code",
   "execution_count": 30,
   "metadata": {},
   "outputs": [
    {
     "data": {
      "text/plain": [
       "Text(15.010000000000002, 0.0007, 'X_bar')"
      ]
     },
     "execution_count": 30,
     "metadata": {},
     "output_type": "execute_result"
    },
    {
     "data": {
      "image/png": "[encoded data removed]",
      "text/plain": [
       "<Figure size 432x288 with 1 Axes>"
      ]
     },
     "metadata": {
      "needs_background": "light"
     },
     "output_type": "display_data"
    }
   ],
   "source": [
    "x_min = min(l)\n",
    "x_max = max(l)\n",
    "mean = sample_mean\n",
    "std = sample_std\n",
    "\n",
    "x = np.linspace(x_min, x_max, 100)\n",
    "y = norm.pdf(x, mean, std)\n",
    "plt.plot(x, y)\n",
    "\n",
    "t_critical_right = mean + (t_critical * std)\n",
    "\n",
    "x1 = np.linspace(t_critical_right, x_max, 100)\n",
    "y1 = norm.pdf(x1, mean, std)\n",
    "plt.fill_between(x1, y1, color=\"black\")\n",
    "\n",
    "plt.scatter(mean, 0)\n",
    "plt.annotate(\"X_bar\", (mean, 0.0007))"
   ]
  },
  {
   "cell_type": "code",
   "execution_count": null,
   "metadata": {},
   "outputs": [],
   "source": []
  }
 ],
 "metadata": {
  "kernelspec": {
   "display_name": "Python 3",
   "language": "python",
   "name": "python3"
  },
  "language_info": {
   "codemirror_mode": {
    "name": "ipython",
    "version": 3
   },
   "file_extension": ".py",
   "mimetype": "text/x-python",
   "name": "python",
   "nbconvert_exporter": "python",
   "pygments_lexer": "ipython3",
   "version": "3.8.5"
  }
 },
 "nbformat": 4,
 "nbformat_minor": 4
}
