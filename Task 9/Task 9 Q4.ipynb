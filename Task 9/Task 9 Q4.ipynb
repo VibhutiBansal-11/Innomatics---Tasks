{
 "cells": [
  {
   "cell_type": "markdown",
   "metadata": {},
   "source": [
    "### Q-4: You have developed a new Machine Learning Application and claim that on average it takes less than 100 ms to predict for any future datapoint. How do you convince your client about this claim? "
   ]
  },
  {
   "cell_type": "code",
   "execution_count": 16,
   "metadata": {},
   "outputs": [],
   "source": [
    "import numpy as np\n",
    "import matplotlib.pyplot as plt\n",
    "from scipy.stats import t\n",
    "from scipy.stats import norm"
   ]
  },
  {
   "cell_type": "markdown",
   "metadata": {},
   "source": [
    "### Step 1 Decide Null and Alternate Hypothesis : \n",
    "\n",
    "\n",
    "\n",
    "$$ Null \\ Hypothesis(Status \\ Quo) : H_0 \\ \\implies \\ \\mu \\geq 100 \\ ms $$\n",
    "$$ Alternate \\ Hypothesis(Bold \\ Claim) : H_1 \\ \\implies \\ \\mu  <  100 \\ ms $$"
   ]
  },
  {
   "cell_type": "markdown",
   "metadata": {},
   "source": [
    "\n",
    "### Step 2 Collect samples to compute test statistics :\n",
    "$$ Samples(x) = [13, 12.9, 15.6, 13.6, 18.8, 12.2, 16.7, 16, 12.9, 18.4] $$\n",
    "$$ n = 10 $$\n"
   ]
  },
  {
   "cell_type": "code",
   "execution_count": 47,
   "metadata": {},
   "outputs": [],
   "source": [
    "l = [97, 90, 108, 110, 54, 87, 92, 103, 138, 96]\n"
   ]
  },
  {
   "cell_type": "markdown",
   "metadata": {},
   "source": [
    "### Step 3 (Compute test statistics on the sample collected):\n",
    "$$ \\mu_\\bar{x} = \\frac{\\sum_{i=0}^{n-1} x_i}{n} = 97.5 $$\n",
    "$$ x \\implies Samples $$\n",
    "\n",
    "$$ S^2 = \\frac{\\sum_{i=0}^{n-1} (x_i - \\mu_x)^2}{n} = 402.85 $$\n",
    "\n",
    "\n",
    "$$ t \\ score = \\frac{\\mu_x - \\mu_\\bar{x}}{S/\\sqrt{n}} = 0.393 $$\n"
   ]
  },
  {
   "cell_type": "code",
   "execution_count": 51,
   "metadata": {},
   "outputs": [
    {
     "name": "stdout",
     "output_type": "stream",
     "text": [
      "97.5\n"
     ]
    }
   ],
   "source": [
    "sample_mean = sum(l) / len(l)\n",
    "print(sample_mean)"
   ]
  },
  {
   "cell_type": "code",
   "execution_count": 52,
   "metadata": {},
   "outputs": [
    {
     "name": "stdout",
     "output_type": "stream",
     "text": [
      "sample variance = 402.85\n",
      "sample_std = 20.07112353606544\n",
      "t_score = 0.3938839864253414\n"
     ]
    }
   ],
   "source": [
    "s = 0\n",
    "for i in l:\n",
    "    s+=pow((i - sample_mean), 2)\n",
    "sample_variance = s / len(l)\n",
    "print('sample variance = '+ str(sample_variance))\n",
    "sample_std = sample_variance ** 0.5\n",
    "print('sample_std = ' +str(sample_std))\n",
    "population_mean = 100\n",
    "sample_size = len(l)\n",
    "def t_score(pop_mean, sample_mean, sample_size, sample_std):\n",
    "    \n",
    "      numerator = pop_mean - sample_mean\n",
    "      denominator = sample_std / (sample_size ** 0.5)\n",
    "      return numerator / denominator\n",
    "\n",
    "t_calculated = t_score(population_mean, sample_mean, sample_size, sample_std)\n",
    "print('t_score = '+str(t_calculated)) "
   ]
  },
  {
   "cell_type": "markdown",
   "metadata": {},
   "source": [
    "### Step 4(Decide significance level) $\\implies$\n",
    "$$ Confidence = 95\\% $$\n",
    "$$ 1 - \\alpha = 0.95 $$\n",
    "$$ \\alpha = 0.05 $$"
   ]
  },
  {
   "cell_type": "code",
   "execution_count": 53,
   "metadata": {},
   "outputs": [
    {
     "name": "stdout",
     "output_type": "stream",
     "text": [
      "0.05\n"
     ]
    }
   ],
   "source": [
    "alpha = 1 - 0.95\n",
    "print(round(alpha, 2))"
   ]
  },
  {
   "cell_type": "code",
   "execution_count": 57,
   "metadata": {},
   "outputs": [
    {
     "name": "stdout",
     "output_type": "stream",
     "text": [
      "2.13184678133629\n"
     ]
    }
   ],
   "source": [
    "#Two tail test\n",
    "t_critical = t.ppf(1-alpha, df=4)\n",
    "print(t_critical)"
   ]
  },
  {
   "cell_type": "markdown",
   "metadata": {},
   "source": [
    "### Step 5.1 (Apply decision Rule using t score)  \n",
    " 1. In case of 2 tailed : $$ |t| > t_{{n - 1}, {\\frac{\\alpha}{2}} }   -----> Reject \\ H_0, \\ Accept \\ H_1 $$\n",
    " 2. In case of right tailed: $$ t > t_{{n-1}, {\\alpha}}   -----> Reject \\ H_0, \\ Accept \\ H_1 $$ \n",
    " 3. In case of left tailed  : $$ t < t_{{n-1}, \\alpha}   -----> Reject \\ H_0, \\ Accept \\ H_1 $$\n",
    "\n",
    "Here we will use two tailed test : $$ |t| < t_{4, 0.025} \\\\ 0.013 < 2.131 \\\\ We \\ Reject \\ H_1 $$\n"
   ]
  },
  {
   "cell_type": "code",
   "execution_count": 59,
   "metadata": {},
   "outputs": [
    {
     "name": "stdout",
     "output_type": "stream",
     "text": [
      "Fail to reject Null Hypothesis\n"
     ]
    }
   ],
   "source": [
    "if abs(t_calculated) < t_critical:\n",
    "  print(\"Fail to reject Null Hypothesis\")\n",
    "else:\n",
    "  print(\"Reject Null Hypothesis\") "
   ]
  },
  {
   "cell_type": "markdown",
   "metadata": {},
   "source": [
    "\n",
    "### Step 5.2 Apply decision Rule using p score:\n",
    "1. For 2 tailed test $\\implies$ $$ p \\ value = 2 * (1 - cdf(test \\ statistic)) $$\n",
    "2. For one tailed test $\\implies$ $$ p \\ value = (1 - cdf(test \\ statistic)) $$\n",
    "\n",
    "$$ if (p \\ values < \\alpha) : Reject \\ H_0, \\ Accept \\ H_1 $$\n",
    "\n",
    "\n",
    "Here we use two tailed test $\\implies$ $$ p \\ value = 2 * (1 - cdf(0.541)) \\\\ p \\ value = 0.494 \\\\ p \\ value > \\alpha \\\\ We \\ Reject \\ H_1 $$"
   ]
  },
  {
   "cell_type": "code",
   "execution_count": 60,
   "metadata": {},
   "outputs": [
    {
     "name": "stdout",
     "output_type": "stream",
     "text": [
      "0.34683334682226064\n"
     ]
    }
   ],
   "source": [
    "p_val = (1-norm.cdf(abs(t_calculated)))\n",
    "print(p_val)"
   ]
  },
  {
   "cell_type": "code",
   "execution_count": 61,
   "metadata": {},
   "outputs": [
    {
     "name": "stdout",
     "output_type": "stream",
     "text": [
      "Fail to reject Null Hypothesis\n"
     ]
    }
   ],
   "source": [
    "if (p_val > alpha):\n",
    "  print(\"Fail to reject Null Hypothesis\")\n",
    "else:\n",
    "  print(\"Reject Null Hypothesis\")"
   ]
  },
  {
   "cell_type": "code",
   "execution_count": 62,
   "metadata": {},
   "outputs": [
    {
     "data": {
      "text/plain": [
       "Text(97.5, 0.0007, 'X_bar')"
      ]
     },
     "execution_count": 62,
     "metadata": {},
     "output_type": "execute_result"
    },
    {
     "data": {
      "image/png": "[encoded data removed]",
      "text/plain": [
       "<Figure size 432x288 with 1 Axes>"
      ]
     },
     "metadata": {
      "needs_background": "light"
     },
     "output_type": "display_data"
    }
   ],
   "source": [
    "x_min = min(l)\n",
    "x_max = max(l)\n",
    "mean = sample_mean\n",
    "std = sample_std\n",
    "\n",
    "x = np.linspace(x_min, x_max, 100)\n",
    "y = norm.pdf(x, mean, std)\n",
    "plt.plot(x, y)\n",
    "\n",
    "t_critical_left = mean + (-1 * t_critical * std)\n",
    "\n",
    "x1 = np.linspace(x_min, t_critical_left, 100)\n",
    "y1 = norm.pdf(x1, mean, std)\n",
    "plt.fill_between(x1, y1, color=\"black\")\n",
    "\n",
    "plt.scatter(mean, 0)\n",
    "plt.annotate(\"X_bar\", (mean, 0.0007))"
   ]
  }
 ],
 "metadata": {
  "kernelspec": {
   "display_name": "Python 3",
   "language": "python",
   "name": "python3"
  },
  "language_info": {
   "codemirror_mode": {
    "name": "ipython",
    "version": 3
   },
   "file_extension": ".py",
   "mimetype": "text/x-python",
   "name": "python",
   "nbconvert_exporter": "python",
   "pygments_lexer": "ipython3",
   "version": "3.8.5"
  }
 },
 "nbformat": 4,
 "nbformat_minor": 4
}
