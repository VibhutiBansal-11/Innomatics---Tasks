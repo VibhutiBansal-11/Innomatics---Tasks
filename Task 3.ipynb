{
 "cells": [
  {
   "cell_type": "code",
   "execution_count": 1,
   "metadata": {},
   "outputs": [
    {
     "name": "stdout",
     "output_type": "stream",
     "text": [
      "1+2j\n",
      "2.23606797749979\n",
      "1.1071487177940904\n"
     ]
    }
   ],
   "source": [
    "#Q1 POlar Coordinates\n",
    "# Enter your code here. Read input from STDIN. Print output to STDOUT\n",
    "z = complex(input())\n",
    "x=z.real\n",
    "y=z.imag\n",
    "import cmath\n",
    "arg =cmath.phase(complex(x,y))\n",
    "mod = abs(complex(x, y))\n",
    "print(mod)\n",
    "print(arg)\n"
   ]
  },
  {
   "cell_type": "code",
   "execution_count": 27,
   "metadata": {},
   "outputs": [
    {
     "name": "stdout",
     "output_type": "stream",
     "text": [
      "10\n",
      "10\n",
      "45°\n"
     ]
    }
   ],
   "source": [
    "#Q2 Angle MBC\n",
    "import math\n",
    "ab,bc = int(input()),int(input())\n",
    "angle = math.degrees(math.atan(ab / bc))\n",
    "print(f'{angle:.0f}{chr(176)}')"
   ]
  },
  {
   "cell_type": "code",
   "execution_count": 12,
   "metadata": {},
   "outputs": [
    {
     "name": "stdout",
     "output_type": "stream",
     "text": [
      "4\n",
      "1\n",
      "121\n",
      "12321\n",
      "1234321\n"
     ]
    }
   ],
   "source": [
    "#Q3 Triangle Quest 2\n",
    "n = int(input())\n",
    "for i in range(1,n+1):\n",
    "    out = []\n",
    "    for i in range(1,i+1):\n",
    "        out.append(str(i))\n",
    "    for i in range(i-1, 0, -1):\n",
    "        out.append(str(i))\n",
    "    print(''.join(out))"
   ]
  },
  {
   "cell_type": "code",
   "execution_count": 20,
   "metadata": {},
   "outputs": [
    {
     "name": "stdout",
     "output_type": "stream",
     "text": [
      "4\n",
      "1\n",
      "121\n",
      "12321\n",
      "1234321\n"
     ]
    }
   ],
   "source": [
    "#Q3 Triangle Quest 2\n",
    "# 2 -liner solution : \n",
    "for i in range(1,int(input())+1):\n",
    "    print(int('1'*i)**2)\n",
    "    "
   ]
  },
  {
   "cell_type": "code",
   "execution_count": 22,
   "metadata": {},
   "outputs": [
    {
     "name": "stdout",
     "output_type": "stream",
     "text": [
      "1\n",
      "2\n"
     ]
    }
   ],
   "source": [
    "#Q4 Divmod\n",
    "# Enter your code here. Read input from STDIN. Print output to STDOUT\n",
    "a,b =int(input()),int(input())\n",
    "print(a//b)\n",
    "print(a%b)\n",
    "print(divmod(a,b))"
   ]
  },
  {
   "cell_type": "code",
   "execution_count": 23,
   "metadata": {},
   "outputs": [
    {
     "name": "stdout",
     "output_type": "stream",
     "text": [
      "3\n",
      "4\n",
      "5\n",
      "81\n",
      "1\n"
     ]
    }
   ],
   "source": [
    "#Q5 Power Mod Power\n",
    "# Enter your code here. Read input from STDIN. Print output to STDOUT\n",
    "a,b,m =int(input()),int(input()),int(input())\n",
    "print(pow(a,b))\n",
    "print(pow(a,b,m))"
   ]
  },
  {
   "cell_type": "code",
   "execution_count": null,
   "metadata": {},
   "outputs": [],
   "source": [
    "#Q6 Integers Come in All sizes\n",
    "# Enter your code here. Read input from STDIN. Print output to STDOUT\n",
    "a,b,c,d =int(input()),int(input()),int(input()),int(input())\n",
    "print(pow(a,b)+pow(c,d))"
   ]
  },
  {
   "cell_type": "code",
   "execution_count": 25,
   "metadata": {},
   "outputs": [
    {
     "name": "stdout",
     "output_type": "stream",
     "text": [
      "9\n",
      "1\n",
      "22\n",
      "333\n",
      "4444\n",
      "55555\n",
      "666666\n",
      "7777777\n",
      "88888888\n"
     ]
    }
   ],
   "source": [
    "#Q7 Trianlge Quest\n",
    "for i in range(1,int(input())): \n",
    "    print(pow(10,i-1)*i+int(pow(10,i-2)*i)+int(pow(10,i-3)*i)+int(pow(10,i-4)*i)+int(pow(10,i-5)*i)+int(pow(10,i-6)*i)+int(pow(10,i-7)*i)+int(pow(10,i-8)*i)+int(pow(10,i-9)*i))"
   ]
  },
  {
   "cell_type": "code",
   "execution_count": null,
   "metadata": {},
   "outputs": [],
   "source": []
  }
 ],
 "metadata": {
  "kernelspec": {
   "display_name": "Python 3",
   "language": "python",
   "name": "python3"
  },
  "language_info": {
   "codemirror_mode": {
    "name": "ipython",
    "version": 3
   },
   "file_extension": ".py",
   "mimetype": "text/x-python",
   "name": "python",
   "nbconvert_exporter": "python",
   "pygments_lexer": "ipython3",
   "version": "3.8.5"
  }
 },
 "nbformat": 4,
 "nbformat_minor": 4
}
