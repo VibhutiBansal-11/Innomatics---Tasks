{
 "cells": [
  {
   "cell_type": "code",
   "execution_count": 60,
   "metadata": {},
   "outputs": [
    {
     "name": "stdout",
     "output_type": "stream",
     "text": [
      "4\n",
      "-1\n",
      "False\n",
      "-2.0\n",
      "True\n",
      "1\n",
      "False\n",
      "y\n",
      "False\n"
     ]
    }
   ],
   "source": [
    "#Question 1 - Floating Point Number\n",
    "# Enter your code here. Read input from STDIN. Print output to STDOUT\n",
    "import re\n",
    "n = int(input())\n",
    "for _ in range(n):\n",
    "    \n",
    "    x = str(input())\n",
    "    \n",
    "    sign = re.findall(r'[.]{1}', x)\n",
    "    s = re.findall(r'^[+-]?\\d*[.]\\d{1,}', x)\n",
    "    if len(s) == 1 and s[0] == x and len(sign) == 1:\n",
    "        print(True)\n",
    "    else:\n",
    "    \n",
    "        print(False)"
   ]
  },
  {
   "cell_type": "code",
   "execution_count": 11,
   "metadata": {},
   "outputs": [
    {
     "name": "stdout",
     "output_type": "stream",
     "text": [
      "1000,00.00\n",
      "['1000', '00', '00']\n"
     ]
    }
   ],
   "source": [
    "#Question 2 Re-Split\n",
    "regex_pattern = r\"[,.]\"\t# Do not delete 'r'.\n",
    "\n",
    "import re\n",
    "print(\"\\n\".join(re.split(regex_pattern, input())))"
   ]
  },
  {
   "cell_type": "code",
   "execution_count": 2,
   "metadata": {},
   "outputs": [
    {
     "name": "stdout",
     "output_type": "stream",
     "text": [
      "9\n",
      "-1\n"
     ]
    }
   ],
   "source": [
    "#Question 3 Group,Groups\n",
    "import re\n",
    "t = re.search(r\"([^\\W_])\\1+\",input())\n",
    "if t:\n",
    "    print(t.group(1))\n",
    "else:\n",
    "    print(-1)"
   ]
  },
  {
   "cell_type": "code",
   "execution_count": 27,
   "metadata": {},
   "outputs": [
    {
     "name": "stdout",
     "output_type": "stream",
     "text": [
      "rabcdeefgyYhFjkIoomnpOeorteeeeet\n",
      "ee\n",
      "Ioo\n",
      "Oeo\n",
      "eeeee\n"
     ]
    }
   ],
   "source": [
    "# Enter your code here. Read input from STDIN. Print output to STDOUT\n",
    "#Question 4 Findall,finditer\n",
    "import re\n",
    "a = re.findall('([aeiou]{2,})([qwrtypsdfghjklzxcvbnm])', input(), re.I)\n",
    "if a:\n",
    "    for i in a:\n",
    "        print(i[0])\n",
    "else:\n",
    "    print(-1)"
   ]
  },
  {
   "cell_type": "code",
   "execution_count": 101,
   "metadata": {},
   "outputs": [
    {
     "name": "stdout",
     "output_type": "stream",
     "text": [
      "jjhv \n",
      "z\n",
      "(-1, 1)\n"
     ]
    }
   ],
   "source": [
    "#Question 5 Re.start re.end\n",
    "# Enter your code here. Read input from STDIN. Print output to STDOUT\n",
    "import re\n",
    "a = str(input())\n",
    "b = str(input())\n",
    "b = re.compile(b)\n",
    "x = b.search(a)\n",
    "if(x):\n",
    "    while x:\n",
    "        print(tuple([x.start(),x.end()-1]))\n",
    "        x= b.search(a,x.start() + 1)\n",
    "else:\n",
    "    print(tuple([-1,-1]))\n",
    "\n",
    "\n"
   ]
  },
  {
   "cell_type": "code",
   "execution_count": 56,
   "metadata": {},
   "outputs": [
    {
     "name": "stdout",
     "output_type": "stream",
     "text": [
      "11 a = 1; b = input();  if a + b > 0 && a - b < 0:     start() elif a*b > 10 || a/b < 1:     stop() print set(list(a)) | set(list(b)) \n",
      "11 a = 1; b = input();  if a + b > 0 and a - b < 0:     start() elif a*b > 10 or a/b < 1:     stop() print set(list(a)) | set(list(b)) \n"
     ]
    }
   ],
   "source": [
    "#Question 6 Substitution\n",
    "# Enter your code here. Read input from STDIN. Print output to STDOUT\n",
    "import re\n",
    "def char(match):\n",
    "    if(str(match.group(0))=='&&'):\n",
    "        return 'and'\n",
    "    if(str(match.group(0))=='||'):\n",
    "        return 'or'\n",
    "n = int(input())\n",
    "for _ in range(n):\n",
    "    print(re.sub(\"(?<= )(&&|\\|\\||)(?= )\", char, str(input()))) \n",
    "\n"
   ]
  },
  {
   "cell_type": "code",
   "execution_count": null,
   "metadata": {},
   "outputs": [],
   "source": [
    "#Q7 Roman Numbers\n",
    "t = 'M{0,3}'\n",
    "h = '(C[MD]|D?C{0,3})'\n",
    "ten = '(X[CL]|L?X{0,3})'\n",
    "d = '(I[VX]|V?I{0,3})'\n",
    "regex_pattern= t+h+ten+d+'$'\n",
    "import re\n",
    "print(str(bool(re.match(regex_pattern, input()))))"
   ]
  },
  {
   "cell_type": "code",
   "execution_count": 72,
   "metadata": {},
   "outputs": [
    {
     "name": "stdout",
     "output_type": "stream",
     "text": [
      "1\n",
      "85234789651\n",
      "NO\n"
     ]
    }
   ],
   "source": [
    "#Q8  Validate Phone Numbers\n",
    "# Enter your code here. Read input from STDIN. Print output to STDOUT\n",
    "import re\n",
    "n = int(input())\n",
    "for _ in range(n):\n",
    "    x = input()\n",
    "    if(re.match(r'[789]\\d{9}$',x)):\n",
    "        print('YES')\n",
    "    else:\n",
    "        print('NO')"
   ]
  },
  {
   "cell_type": "code",
   "execution_count": 91,
   "metadata": {},
   "outputs": [
    {
     "name": "stdout",
     "output_type": "stream",
     "text": [
      "1\n",
      "vineet <vineet.iitg@gmail.c>\n",
      "vineet <vineet.iitg@gmail.c>\n"
     ]
    }
   ],
   "source": [
    "#Q9  Validate Email IDs \n",
    "# Enter your code here. Read input from STDIN. Print output to STDOUT\n",
    "import re\n",
    "n = int(input())\n",
    "for _ in range(n):\n",
    "    name,email = input().split()\n",
    "    ans = re.match(r'<[A-Za-z](\\w|-|\\.|_)+@[A-Za-z]+\\.[A-Za-z]{1,3}>',email)\n",
    "    if(ans):\n",
    "        print(name+' '+email)"
   ]
  },
  {
   "cell_type": "code",
   "execution_count": null,
   "metadata": {},
   "outputs": [],
   "source": [
    "#Q10 Hex Color Code\n",
    "# Enter your code here. Read input from STDIN. Print output to STDOUT\n",
    "import re\n",
    "n = int(input())\n",
    "for _ in range(n):\n",
    "    txt  =  str(input())\n",
    "    mat = re.findall('[\\s:](#[a-f0-9]{6}|#[a-f0-9]{3})',txt,re.I)\n",
    "    for i in mat:\n",
    "        if(i):\n",
    "            print(i)\n",
    "    "
   ]
  },
  {
   "cell_type": "code",
   "execution_count": null,
   "metadata": {},
   "outputs": [],
   "source": [
    "#Q11 HTML Parser 1\n",
    "# Enter your code here. Read input from STDIN. Print output to STDOUT\n",
    "from html.parser import HTMLParser\n",
    "class MyHTMLParser(HTMLParser):\n",
    "    def handle_starttag(self, tag, attrs):        \n",
    "        print ('Start :',tag)\n",
    "        for i in attrs:\n",
    "            print ('->',i[0],'>',i[1])\n",
    "            \n",
    "    def handle_endtag(self, tag):\n",
    "        print ('End   :',tag)\n",
    "        \n",
    "    def handle_startendtag(self, tag, attrs):\n",
    "        print ('Empty :',tag)\n",
    "        for i in attrs:\n",
    "            print ('->',i[0],'>',i[1])\n",
    "            \n",
    "parser = MyHTMLParser()\n",
    "n = int(input())\n",
    "for _ in range(n):\n",
    "    parser.feed(input())"
   ]
  },
  {
   "cell_type": "code",
   "execution_count": null,
   "metadata": {},
   "outputs": [],
   "source": [
    "#Q12 HTML Parser 2\n",
    "from html.parser import HTMLParser\n",
    "\n",
    "class MyHTMLParser(HTMLParser):\n",
    "    def handle_comment(self, cmt):\n",
    "        if '\\n' in cmt:\n",
    "            print('>>> Multi-line Comment')\n",
    "        else:\n",
    "            print('>>> Single-line Comment')\n",
    "        print(cmt)\n",
    "    def handle_data(self, data):\n",
    "        if data!='\\n':\n",
    "            print(\">>> Data\")\n",
    "            print(data)\n",
    "html = \"\"       \n",
    "for i in range(int(input())):\n",
    "    html += input().rstrip()\n",
    "    html += '\\n'\n",
    "    \n",
    "parser = MyHTMLParser()\n",
    "parser.feed(html)\n",
    "parser.close()"
   ]
  },
  {
   "cell_type": "code",
   "execution_count": null,
   "metadata": {},
   "outputs": [],
   "source": [
    "#Q13 Detect HTML Tags\n",
    "# Enter your code here. Read input from STDIN. Print output to STDOUT\n",
    "from html.parser import HTMLParser\n",
    "class MyHTMLParser(HTMLParser):\n",
    "    def handle_starttag(self, tag, attrs):        \n",
    "        print (tag)\n",
    "        for i in attrs:\n",
    "            print ('->',i[0],'>',i[1])\n",
    "            \n",
    "    # def handle_endtag(self, tag):\n",
    "    #     print (tag)\n",
    "        \n",
    "    def handle_startendtag(self, tag, attrs):\n",
    "        print (tag)\n",
    "        for i in attrs:\n",
    "            print ('->',i[0],'>',i[1])\n",
    "            \n",
    "parser = MyHTMLParser()\n",
    "n = int(input())\n",
    "for _ in range(n):\n",
    "    parser.feed(input())"
   ]
  },
  {
   "cell_type": "code",
   "execution_count": null,
   "metadata": {},
   "outputs": [],
   "source": [
    "#Q14 Validating UID\n",
    "import re\n",
    "for _ in range(int(input())):\n",
    "    s = input()\n",
    "    if all([re.search(r, s) \n",
    "    for r in [r'[A-Za-z0-9]{10}',r'([A-Z].*){2}',r'([0-9].*){3}']]) and not re.search(r'.*(.).*\\1', s):\n",
    "        print('Valid')\n",
    "    else:\n",
    "        print('Invalid')"
   ]
  },
  {
   "cell_type": "code",
   "execution_count": null,
   "metadata": {},
   "outputs": [],
   "source": [
    "#Q15 Credit Card Numbers\n",
    "# Enter your code here. Read input from STDIN. Print output to STDOUT\n",
    "import re\n",
    "n = int(input())\n",
    "vt = re.compile(\n",
    "    r\"^\"\n",
    "    r\"(?!.*(\\d)(-?\\1){3})\"\n",
    "    r\"[456]\"\n",
    "    r\"\\d{3}\"\n",
    "    r\"(?:-?\\d{4}){3}\"\n",
    "    r\"$\")\n",
    "for _ in range(n):\n",
    "    x = input().strip()\n",
    "    # print(x)\n",
    "    if vt.search(x):\n",
    "        print('Valid')\n",
    "    else:\n",
    "        print(\"Invalid\")"
   ]
  },
  {
   "cell_type": "code",
   "execution_count": null,
   "metadata": {},
   "outputs": [],
   "source": [
    "#Q16 Validating Postal Codes\n",
    "regex_integer_in_range = r\"^[1-9][0-9]{5}$\"\n",
    "regex_alternating_repetitive_digit_pair = r\"(\\d)(?=.\\1)\"\n",
    "\n",
    "\n",
    "import re\n",
    "P = input()\n",
    "\n",
    "print (bool(re.match(regex_integer_in_range, P)) \n",
    "and len(re.findall(regex_alternating_repetitive_digit_pair, P)) < 2)"
   ]
  },
  {
   "cell_type": "code",
   "execution_count": null,
   "metadata": {},
   "outputs": [],
   "source": [
    "#Q17 Matrix Script\n",
    "import re\n",
    "first_multiple_input = input().rstrip().split()\n",
    "\n",
    "n = int(first_multiple_input[0])\n",
    "\n",
    "m = int(first_multiple_input[1])\n",
    "\n",
    "matrix = []\n",
    "\n",
    "for _ in range(n):\n",
    "    matrix_item = input()\n",
    "    matrix.append(matrix_item)\n",
    "\n",
    "es = \"\".join([matrix[j][i] for i in range(m) for j in range(n)])\n",
    "x = r'(?<=[a-zA-Z0-9])[^a-zA-Z0-9]+(?=[a-zA-Z0-9])'\n",
    "print(re.sub(x,' ',es))"
   ]
  }
 ],
 "metadata": {
  "kernelspec": {
   "display_name": "Python 3",
   "language": "python",
   "name": "python3"
  },
  "language_info": {
   "codemirror_mode": {
    "name": "ipython",
    "version": 3
   },
   "file_extension": ".py",
   "mimetype": "text/x-python",
   "name": "python",
   "nbconvert_exporter": "python",
   "pygments_lexer": "ipython3",
   "version": "3.8.5"
  }
 },
 "nbformat": 4,
 "nbformat_minor": 4
}
