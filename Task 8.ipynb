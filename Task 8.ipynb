{
 "cells": [
  {
   "cell_type": "code",
   "execution_count": 6,
   "metadata": {},
   "outputs": [
    {
     "name": "stdout",
     "output_type": "stream",
     "text": [
      "1.09 1\n",
      "0.696\n"
     ]
    }
   ],
   "source": [
    "#Q1 - Binomial 1\n",
    "import math\n",
    "a,b = map(float,input().split())\n",
    "\n",
    "prob = a/(a+b)\n",
    "\n",
    "def nCr(n,r):\n",
    "    f = math.factorial\n",
    "    return f(n) /( f(r) * f(n-r) )\n",
    "res = 0\n",
    "for i in range(3,7):\n",
    "    res += nCr(6,i)*(prob**i)*((1-prob)**(6-i))\n",
    "print(round(res,3))"
   ]
  },
  {
   "cell_type": "code",
   "execution_count": 16,
   "metadata": {},
   "outputs": [
    {
     "name": "stdout",
     "output_type": "stream",
     "text": [
      "12 10\n",
      "0.891\n",
      "0.342\n"
     ]
    }
   ],
   "source": [
    "#Q2 - Binomial 2\n",
    "import math\n",
    "a,n = map(int,input().split())\n",
    "prob = a/100\n",
    "def nCr(n,r):\n",
    "    f = math.factorial\n",
    "    return f(n) /( f(r) * f(n-r) )\n",
    "ansA = 0\n",
    "ansB = 0\n",
    "\n",
    "for i in range(0,3):\n",
    "    ansA+= nCr(n,i)*(prob**i)*((1-prob)**(n-i))\n",
    "\n",
    "for i in range(2):\n",
    "    ansB += nCr(n,i)*(prob**i)*((1-prob)**(n-i))\n",
    "\n",
    "print(round(ansA,3))\n",
    "print(round(1-ansB,3))"
   ]
  },
  {
   "cell_type": "code",
   "execution_count": 21,
   "metadata": {},
   "outputs": [
    {
     "name": "stdout",
     "output_type": "stream",
     "text": [
      "20 2\n",
      "19.5\n",
      "20 22\n",
      "0.401\n",
      "0.341\n"
     ]
    }
   ],
   "source": [
    "#Q3 - Normal Distribution 1\n",
    "import math\n",
    "mean,std = map(int,input().split())\n",
    "a  = float(input())\n",
    "b,c = map(float,input().split())\n",
    "\n",
    "def nd(mean,std,x):\n",
    "    return(0.5*(1 + math.erf((x-mean)/(std*(2**0.5)))))\n",
    "ans1 = nd(mean,std,a)\n",
    "ans2 = nd(mean,std,c)-nd(mean,std,b)\n",
    "print(round(ans1,3))\n",
    "print(round(ans2,3))"
   ]
  },
  {
   "cell_type": "code",
   "execution_count": 25,
   "metadata": {},
   "outputs": [
    {
     "name": "stdout",
     "output_type": "stream",
     "text": [
      "70 10\n",
      "80 \n",
      "60\n",
      "15.866\n",
      "84.134\n",
      "15.866\n"
     ]
    }
   ],
   "source": [
    "#Q4 - Normal Distribution 2\n",
    "import math\n",
    "mean,std = map(int,input().split())\n",
    "a  = float(input())\n",
    "b =  float(input())\n",
    "def nd(mean,std,x):\n",
    "    return(0.5*(1 + math.erf((x-mean)/(std*(2**0.5))))*100)\n",
    "ans1 = 100- nd(mean,std,a)\n",
    "ans3 = nd(mean,std,b)\n",
    "ans2 = 100 - ans3\n",
    "print(round(ans1,3))\n",
    "print(round(ans2,3))\n",
    "print(round(ans3,3))"
   ]
  },
  {
   "cell_type": "code",
   "execution_count": 27,
   "metadata": {},
   "outputs": [
    {
     "name": "stdout",
     "output_type": "stream",
     "text": [
      "9800\n",
      "49\n",
      "205\n",
      "15\n",
      "0.0098\n"
     ]
    }
   ],
   "source": [
    "#Q5 - CLT 1\n",
    "import math\n",
    "x = int(input())\n",
    "box = int(input())\n",
    "mean = int(input())\n",
    "std = int(input())\n",
    "def nd(mean,std,x):\n",
    "    return(0.5*(1 + math.erf((x-mean)/(std*(2**0.5)))))\n",
    "\n",
    "ans = nd(box * mean,(box**0.5)*std,x)\n",
    "print(round(ans,4))\n",
    "\n"
   ]
  },
  {
   "cell_type": "code",
   "execution_count": 28,
   "metadata": {},
   "outputs": [
    {
     "name": "stdout",
     "output_type": "stream",
     "text": [
      "250\n",
      "100\n",
      "2.4\n",
      "2.0\n",
      "0.6915\n"
     ]
    }
   ],
   "source": [
    "#Q6 - CLT 2\n",
    "import math\n",
    "x = int(input())\n",
    "box = int(input())\n",
    "mean = float(input())\n",
    "std = float(input())\n",
    "def nd(mean,std,x):\n",
    "    return(0.5*(1 + math.erf((x-mean)/(std*(2**0.5)))))\n",
    "\n",
    "ans = nd(box * mean,(box**0.5)*std,x)\n",
    "print(round(ans,4))"
   ]
  },
  {
   "cell_type": "code",
   "execution_count": 29,
   "metadata": {},
   "outputs": [
    {
     "name": "stdout",
     "output_type": "stream",
     "text": [
      "100\n",
      "500\n",
      "80\n",
      "0.95\n",
      "1.96\n",
      "484.32\n",
      "515.68\n"
     ]
    }
   ],
   "source": [
    "#Q7 - CLT 3\n",
    "import math\n",
    "samplesize = int(input())\n",
    "mean = int(input())\n",
    "std = int(input())\n",
    "a = float(input())\n",
    "z = float(input())\n",
    "\n",
    "moe = z * std/(samplesize**0.5)\n",
    "print(round(mean-moe,2))\n",
    "print(round(mean+moe,2))"
   ]
  },
  {
   "cell_type": "code",
   "execution_count": 51,
   "metadata": {},
   "outputs": [
    {
     "name": "stdout",
     "output_type": "stream",
     "text": [
      "10\n",
      "10\n",
      "9.8\n",
      "8\n",
      "7.8\n",
      "7.7\n",
      "7\n",
      "6\n",
      "5\n",
      "4\n",
      "2\n",
      "200\n",
      "44\n",
      "32\n",
      "24\n",
      "22\n",
      "17\n",
      "15\n",
      "12\n",
      "8\n",
      "4\n",
      "0.612\n"
     ]
    }
   ],
   "source": [
    "#Q8 - Pearson Correlation Coeff 1\n",
    "import numpy as np\n",
    "N = int(input())\n",
    "x = np.array([input().split() for _ in range(N)],float)\n",
    "# print(x)\n",
    "y = np.array([input().split() for _ in range(N)],float)\n",
    "def pcc(x,y,n,m1,std1,m2,std2):\n",
    "    n1 = 0\n",
    "    for xi,yi in zip(x,y):\n",
    "        n1+=(xi-m1)*(yi-m2)\n",
    "    n2 = n*std1*std2\n",
    "    return(n1/n2)\n",
    "\n",
    "res = pcc(x,y,N,np.mean(x),np.std(x),np.mean(y),np.std(y))\n",
    "\n",
    "print(round(res[0],3))\n",
    "        "
   ]
  },
  {
   "cell_type": "code",
   "execution_count": 49,
   "metadata": {},
   "outputs": [
    {
     "name": "stdout",
     "output_type": "stream",
     "text": [
      "5\n",
      "95 85\n",
      "85 95\n",
      "80 70\n",
      "70 65\n",
      "60 70\n",
      "78.288\n"
     ]
    }
   ],
   "source": [
    "#Q9 -  least square regression line\n",
    "n = int(input())\n",
    "x = []\n",
    "y = []\n",
    "for _ in range(n):\n",
    "    val = input().split()\n",
    "    x.append(int(val[0]))\n",
    "    y.append(int(val[1]))\n",
    "\n",
    "x = np.array(x)\n",
    "y = np.array(y)\n",
    "\n",
    "m1 = np.mean(x)\n",
    "m2 = np.mean(y)\n",
    "x2 = sum(x**2)\n",
    "xy = sum(x*y)\n",
    "m = (n*xy - sum(x)*sum(y))/(n*x2 - (sum(x)**2))\n",
    "c = m2 - m*m1\n",
    "print(round(m*80+c,3))"
   ]
  },
  {
   "cell_type": "code",
   "execution_count": 104,
   "metadata": {},
   "outputs": [
    {
     "name": "stdout",
     "output_type": "stream",
     "text": [
      "2 2\n",
      "1 2 3\n",
      "4 5 6\n"
     ]
    },
    {
     "name": "stderr",
     "output_type": "stream",
     "text": [
      "C:\\ProgramData\\Anaconda3\\lib\\site-packages\\sklearn\\utils\\validation.py:72: FutureWarning: Beginning in version 0.22, arrays of bytes/strings will be converted to decimal numbers if dtype='numeric'. It is recommended that you convert the array to a float dtype before using it in scikit-learn, for example by using your_array = your_array.astype(np.float64).\n",
      "  return f(**kwargs)\n"
     ]
    },
    {
     "name": "stdout",
     "output_type": "stream",
     "text": [
      "2 \n",
      "1 1\n",
      "2 2\n",
      "[2.5]\n",
      "[3.5]\n"
     ]
    }
   ],
   "source": [
    "#Q10 - multiple linear regression\n",
    "import numpy as np\n",
    "from sklearn import linear_model\n",
    "m,n = [int(i) for i in input().strip().split(' ')]\n",
    "X = []\n",
    "Y = []\n",
    "for i in range(n):\n",
    "    val = input().strip().split()\n",
    "    X.append(val[:m])\n",
    "    Y.append(val[m:])\n",
    "lm = linear_model.LinearRegression()\n",
    "lm.fit(X, Y)\n",
    "a = lm.intercept_\n",
    "b = lm.coef_\n",
    "b = b[0]\n",
    "outn = int(input())\n",
    "\n",
    "Xout = []\n",
    "for i in range(outn):\n",
    "    val = input().strip().split()\n",
    "    Xout.append(val)\n",
    "Xout = np.array(Xout)\n",
    "Xout = Xout.astype('float')\n",
    "\n",
    "for i in range(outn):\n",
    "    print(sum([b[j]*Xout[i,j] for j in range(m)])+a)"
   ]
  }
 ],
 "metadata": {
  "kernelspec": {
   "display_name": "Python 3",
   "language": "python",
   "name": "python3"
  },
  "language_info": {
   "codemirror_mode": {
    "name": "ipython",
    "version": 3
   },
   "file_extension": ".py",
   "mimetype": "text/x-python",
   "name": "python",
   "nbconvert_exporter": "python",
   "pygments_lexer": "ipython3",
   "version": "3.8.5"
  }
 },
 "nbformat": 4,
 "nbformat_minor": 4
}
