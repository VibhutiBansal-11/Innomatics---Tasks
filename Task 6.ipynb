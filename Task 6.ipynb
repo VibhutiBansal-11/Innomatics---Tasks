{
 "cells": [
  {
   "cell_type": "code",
   "execution_count": 1,
   "metadata": {},
   "outputs": [
    {
     "name": "stdout",
     "output_type": "stream",
     "text": [
      "1 2 3 4 5\n",
      "[5. 4. 3. 2. 1.]\n"
     ]
    }
   ],
   "source": [
    "#Q1 - Arrays\n",
    "import numpy as np\n",
    "def arrays(arr):\n",
    "    arr =  np.flip(arr)\n",
    "    arr  = arr.astype('float64')\n",
    "    return arr\n",
    "arr = input().strip().split(' ')\n",
    "result = arrays(arr)\n",
    "print(result)"
   ]
  },
  {
   "cell_type": "code",
   "execution_count": 2,
   "metadata": {},
   "outputs": [
    {
     "name": "stdout",
     "output_type": "stream",
     "text": [
      "1 2 3 4 5 6 7 8 9\n",
      "[[1 2 3]\n",
      " [4 5 6]\n",
      " [7 8 9]]\n"
     ]
    }
   ],
   "source": [
    "#Q2 - Shape & Reshape\n",
    "import numpy as np\n",
    "arr = input().strip().split(' ')\n",
    "arr = np.reshape(arr,(3,3))\n",
    "arr = arr.astype('int64')\n",
    "print(arr)\n"
   ]
  },
  {
   "cell_type": "code",
   "execution_count": 3,
   "metadata": {},
   "outputs": [
    {
     "name": "stdout",
     "output_type": "stream",
     "text": [
      "2 2\n",
      "1 2 \n",
      "3 4\n",
      "[[1 3]\n",
      " [2 4]]\n",
      "[1 2 3 4]\n"
     ]
    }
   ],
   "source": [
    "#Q3 - Transpose & Flatten\n",
    "import numpy as np\n",
    "n , m = input().split();\n",
    "arr = [];\n",
    "for i in range(int(n)):\n",
    "    inp = input().split();\n",
    "    arr.append(inp);\n",
    "arr = np.array(arr,int);\n",
    "\n",
    "print(np.transpose(arr))\n",
    "print(arr.flatten())\n"
   ]
  },
  {
   "cell_type": "code",
   "execution_count": 4,
   "metadata": {},
   "outputs": [
    {
     "name": "stdout",
     "output_type": "stream",
     "text": [
      "3 3 3\n",
      "1 2 3\n",
      "4 5 6\n",
      "7 8 9\n",
      "1 2 3\n",
      "4 5 6\n",
      "7 8 9\n",
      "[[1 2 3]\n",
      " [4 5 6]\n",
      " [7 8 9]\n",
      " [1 2 3]\n",
      " [4 5 6]\n",
      " [7 8 9]]\n"
     ]
    }
   ],
   "source": [
    "#Q4 - Concatenate\n",
    "import numpy as np\n",
    "N,M,P = map(int,input().split())\n",
    "arr1 = np.array([input().split() for _ in range(N)],int)\n",
    "arr2 = np.array([input().split() for _ in range(M)],int)\n",
    "print(np.concatenate((arr1, arr2), axis = 0))\n",
    "\n"
   ]
  },
  {
   "cell_type": "code",
   "execution_count": 5,
   "metadata": {},
   "outputs": [
    {
     "name": "stdout",
     "output_type": "stream",
     "text": [
      "2 2\n",
      "[[0 0]\n",
      " [0 0]]\n",
      "[[1 1]\n",
      " [1 1]]\n"
     ]
    }
   ],
   "source": [
    "#Q5  - Zeros & Ones\n",
    "import numpy as np\n",
    "arr = list(map(int, input().split()))\n",
    "print( np.zeros((arr), dtype = np.int))\n",
    "print (np.ones((arr), dtype = np.int))\n",
    "\n",
    "\n",
    "\n"
   ]
  },
  {
   "cell_type": "code",
   "execution_count": 6,
   "metadata": {},
   "outputs": [
    {
     "name": "stdout",
     "output_type": "stream",
     "text": [
      "3 3\n",
      "[[ 1.  0.  0.]\n",
      " [ 0.  1.  0.]\n",
      " [ 0.  0.  1.]]\n"
     ]
    }
   ],
   "source": [
    "#Q6 - Identity and Eye\n",
    "import numpy as np\n",
    "np.set_printoptions(legacy='1.13')\n",
    "n,m = map(int, input().split())\n",
    "print(np.eye(n,m))\n",
    "\n",
    "\n"
   ]
  },
  {
   "cell_type": "code",
   "execution_count": 7,
   "metadata": {},
   "outputs": [
    {
     "name": "stdout",
     "output_type": "stream",
     "text": [
      "2 2\n",
      "1 2\n",
      "3 4\n",
      "5 6 \n",
      "7 8\n",
      "[[ 6  8]\n",
      " [10 12]]\n",
      "[[-4 -4]\n",
      " [-4 -4]]\n",
      "[[ 5 12]\n",
      " [21 32]]\n",
      "[[0 0]\n",
      " [0 0]]\n",
      "[[1 2]\n",
      " [3 4]]\n",
      "[[    1    64]\n",
      " [ 2187 65536]]\n"
     ]
    }
   ],
   "source": [
    "#Q7 - Array Maths\n",
    "import numpy as np\n",
    "N,M = map(int,input().split())\n",
    "A = np.array([input().split() for _ in range(N)],int)\n",
    "B = np.array([input().split() for _ in range(N)],int)\n",
    "print(A+B)\n",
    "print(A-B)\n",
    "print(A*B)\n",
    "print(A//B)\n",
    "print(A%B)\n",
    "print(A**B)\n"
   ]
  },
  {
   "cell_type": "code",
   "execution_count": 8,
   "metadata": {},
   "outputs": [
    {
     "name": "stdout",
     "output_type": "stream",
     "text": [
      "1.1 2.2 4.6\n",
      "[ 1.  2.  4.]\n",
      "[ 2.  3.  5.]\n",
      "[ 1.  2.  5.]\n"
     ]
    }
   ],
   "source": [
    "#Q8 - Floor,Ceil,Rint\n",
    "import numpy as np\n",
    "np.set_printoptions(legacy='1.13')\n",
    "arr = np.array(input().split(),float)\n",
    "print(np.floor(arr))\n",
    "print(np.ceil(arr))\n",
    "print(np.rint(arr))\n"
   ]
  },
  {
   "cell_type": "code",
   "execution_count": 11,
   "metadata": {},
   "outputs": [
    {
     "name": "stdout",
     "output_type": "stream",
     "text": [
      "2 2 \n",
      "2 3\n",
      "4 5\n",
      "48\n"
     ]
    }
   ],
   "source": [
    "#Q9 - Sum & Prod\n",
    "import numpy as np\n",
    "N,M = map(int,input().split())\n",
    "arr = np.array([input().split() for _ in range(N)],int)\n",
    "x = np.sum(arr,axis = 0)\n",
    "print(np.prod(x))\n",
    "\n"
   ]
  },
  {
   "cell_type": "code",
   "execution_count": 12,
   "metadata": {},
   "outputs": [
    {
     "name": "stdout",
     "output_type": "stream",
     "text": [
      "2 2\n",
      "1 2\n",
      "3 4\n",
      "3\n"
     ]
    }
   ],
   "source": [
    "#Q10 - Min and Max\n",
    "import numpy as np\n",
    "N,M = map(int,input().split())\n",
    "arr = np.array([input().split() for _ in range(N)],int)\n",
    "x = np.min(arr,axis = 1)\n",
    "print(np.max(x))\n"
   ]
  },
  {
   "cell_type": "code",
   "execution_count": 15,
   "metadata": {},
   "outputs": [
    {
     "name": "stdout",
     "output_type": "stream",
     "text": [
      "2 2\n",
      "1 2\n",
      "3 4\n",
      "[ 1.5  3.5]\n",
      "[ 1.  1.]\n",
      "1.11803398875\n"
     ]
    }
   ],
   "source": [
    "#Q11 - Mean, Variance, Std Deviation\n",
    "import numpy as np\n",
    "N,M = map(int,input().split())\n",
    "arr = np.array([input().split() for _ in range(N)],int)\n",
    "print(np.mean(arr,axis = 1))\n",
    "print(np.var(arr,axis=0))\n",
    "print(round(np.std(arr,axis=None),11))\n",
    "\n",
    "\n",
    "\n",
    "\n"
   ]
  },
  {
   "cell_type": "code",
   "execution_count": 17,
   "metadata": {},
   "outputs": [
    {
     "name": "stdout",
     "output_type": "stream",
     "text": [
      "2\n",
      "1 2\n",
      "1 2\n",
      "1 2\n",
      "1 2\n",
      "[[3 6]\n",
      " [3 6]]\n"
     ]
    }
   ],
   "source": [
    "#Q12 - dot and cross\n",
    "import numpy as np\n",
    "N = int(input())\n",
    "A = np.array([input().split() for _ in range(N)],int)\n",
    "B = np.array([input().split() for _ in range(N)],int)\n",
    "print(np.dot(A,B))\n",
    "\n",
    "\n"
   ]
  },
  {
   "cell_type": "code",
   "execution_count": 18,
   "metadata": {},
   "outputs": [
    {
     "name": "stdout",
     "output_type": "stream",
     "text": [
      "1 2 3\n",
      "3 4 6\n",
      "29\n",
      "[[ 3  4  6]\n",
      " [ 6  8 12]\n",
      " [ 9 12 18]]\n"
     ]
    }
   ],
   "source": [
    "#Q13 - Inner & Outer\n",
    "import numpy as  np\n",
    "A = np.array(input().split(),int)\n",
    "B = np.array(input().split(),int)\n",
    "print(np.inner(A,B))\n",
    "print(np.outer(A,B))"
   ]
  },
  {
   "cell_type": "code",
   "execution_count": 19,
   "metadata": {},
   "outputs": [
    {
     "name": "stdout",
     "output_type": "stream",
     "text": [
      "1 2 3 4 5 6\n",
      "2\n",
      "120.0\n"
     ]
    }
   ],
   "source": [
    "#Q14 - Polynomials\n",
    "import numpy as np\n",
    "\n",
    "A = np.array(input().split(),float)\n",
    "x  = int(input())\n",
    "print(np.polyval(A,x))\n"
   ]
  },
  {
   "cell_type": "code",
   "execution_count": 22,
   "metadata": {},
   "outputs": [
    {
     "name": "stdout",
     "output_type": "stream",
     "text": [
      "2 \n",
      "1.1 3.4\n",
      "2.2 7\n",
      "0.22\n"
     ]
    }
   ],
   "source": [
    "#Q15 - Linear Algebra\n",
    "import numpy as np\n",
    "N = int(input())\n",
    "A = np.array([input().split() for _ in range(N)],float)\n",
    "print(round(np.linalg.det(A),2))\n",
    "\n",
    "\n",
    "\n"
   ]
  },
  {
   "cell_type": "code",
   "execution_count": null,
   "metadata": {},
   "outputs": [],
   "source": []
  }
 ],
 "metadata": {
  "kernelspec": {
   "display_name": "Python 3",
   "language": "python",
   "name": "python3"
  },
  "language_info": {
   "codemirror_mode": {
    "name": "ipython",
    "version": 3
   },
   "file_extension": ".py",
   "mimetype": "text/x-python",
   "name": "python",
   "nbconvert_exporter": "python",
   "pygments_lexer": "ipython3",
   "version": "3.8.5"
  }
 },
 "nbformat": 4,
 "nbformat_minor": 4
}
